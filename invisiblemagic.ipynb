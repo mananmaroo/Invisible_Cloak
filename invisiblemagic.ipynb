{
 "cells": [
  {
   "cell_type": "code",
   "execution_count": null,
   "metadata": {},
   "outputs": [],
   "source": [
    "import cv2\n",
    "import time\n",
    "import numpy as np\n",
    "\n",
    "fourcc= cv2.VideoWriter_fourcc(*'XVID')\n",
    "out=cv2.VideoWriter('output.avi',fourcc,20.0, (640,480))\n",
    "\n",
    "\n",
    "cap=cv2.VideoCapture(0)\n",
    "time.sleep(10)\n",
    "count=0\n",
    "background=0\n",
    "\n",
    "for i in range(30):\n",
    "    ret,background=cap.read()\n",
    "background=np.flip(background, axis=1)\n",
    "\n",
    "\n",
    "while (cap.isOpened()):\n",
    "    ret,img=cap.read()\n",
    "    if not ret:\n",
    "        break\n",
    "    count+=1\n",
    "    img=np.flip(img,axis=1)\n",
    "    hsv=cv2.cvtColor(img, cv2.COLOR_BGR2HSV)\n",
    "    \n",
    "    lower = np.array([100, 60, 60])\n",
    "    upper = np.array([140, 255, 255])\n",
    "    mask1 = cv2.inRange(hsv, lower, upper)\n",
    "    \n",
    "    lower_blue = np.array([86, 31, 4])\n",
    "    upper_blue = np.array([220, 88, 50])\n",
    "    mask2 = cv2.inRange(hsv, lower_blue, upper_blue)\n",
    "    \n",
    "    mask1=mask1+mask2\n",
    "    mask1=cv2.morphologyEx(mask1, cv2.MORPH_OPEN,np.ones((3,3),np.uint8))\n",
    "    mask1=cv2.morphologyEx(mask1, cv2.MORPH_DILATE,np.ones((3,3),np.uint8))\n",
    "\n",
    "    mask2=cv2.bitwise_not(mask1)\n",
    "    res1=cv2.bitwise_and(img,img,mask=mask2)\n",
    "    res2=cv2.bitwise_and(background,background,mask=mask1)\n",
    "    \n",
    "    finalOutput=cv2.addWeighted(res1,1,res2,1,0)\n",
    "    out.write(finalOutput)\n",
    "    cv2.imshow(\"magic\",finalOutput)\n",
    "    cv2.waitKey(10)\n",
    "    \n",
    "cap.release()\n",
    "out.release()\n",
    "cv2.destroyAllWindows()\n",
    "        "
   ]
  },
  {
   "cell_type": "code",
   "execution_count": null,
   "metadata": {},
   "outputs": [],
   "source": []
  },
  {
   "cell_type": "code",
   "execution_count": null,
   "metadata": {},
   "outputs": [],
   "source": []
  }
 ],
 "metadata": {
  "kernelspec": {
   "display_name": "Python 3",
   "language": "python",
   "name": "python3"
  },
  "language_info": {
   "codemirror_mode": {
    "name": "ipython",
    "version": 3
   },
   "file_extension": ".py",
   "mimetype": "text/x-python",
   "name": "python",
   "nbconvert_exporter": "python",
   "pygments_lexer": "ipython3",
   "version": "3.7.6"
  }
 },
 "nbformat": 4,
 "nbformat_minor": 2
}
